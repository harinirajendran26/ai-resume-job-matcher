{
 "cells": [
  {
   "cell_type": "markdown",
   "id": "934bb789",
   "metadata": {},
   "source": [
    "# 🎯 AI Resume–Job Matcher using NLP & Data Analytics\n",
    "\n",
    "This project uses Natural Language Processing (NLP) and Machine Learning techniques to:\n",
    "- Extract key skills from job descriptions and candidate resumes\n",
    "- Calculate a match score for each candidate–job pair\n",
    "- Visualize best job matches and missing skills\n"
   ]
  },
  {
   "cell_type": "code",
   "execution_count": 1,
   "id": "0c6a277e",
   "metadata": {},
   "outputs": [],
   "source": [
    "#Load the libraries\n",
    "import pandas as pd\n",
    "import spacy\n",
    "import matplotlib.pyplot as plt\n",
    "import seaborn as sns\n",
    "\n",
    "# Load spaCy NLP model\n",
    "nlp = spacy.load(\"en_core_web_sm\")"
   ]
  },
  {
   "cell_type": "code",
   "execution_count": 2,
   "id": "5256b5fe",
   "metadata": {},
   "outputs": [
    {
     "name": "stdout",
     "output_type": "stream",
     "text": [
      "JOB DESCRIPTIONS:\n",
      "                   Job_Title  \\\n",
      "0               Data Analyst   \n",
      "1  Machine Learning Engineer   \n",
      "2             Data Scientist   \n",
      "\n",
      "                                     Job_Description  \n",
      "0  We are looking for a Data Analyst with experie...  \n",
      "1  The role requires expertise in Python, data pr...  \n",
      "2                                                NaN   \n",
      "\n",
      "RESUMES:\n",
      "     Name                                        Resume_Text\n",
      "0  Ayesha  Skilled in SQL, Python, data visualization wit...\n",
      "1    Ravi  Experience in TensorFlow, Python, Scikit-learn...\n",
      "2    Neha  Knowledge of Python, matplotlib, pandas, and d...\n"
     ]
    }
   ],
   "source": [
    "# Load job descriptions\n",
    "jobs_df = pd.read_csv(r'C:\\Users\\USER\\Desktop\\jupyter\\Projects\\AI_RESUMEMATCHER\\job_description.csv')\n",
    "print(\"JOB DESCRIPTIONS:\")\n",
    "print(jobs_df[['Job_Title', 'Job_Description']], '\\n')\n",
    "\n",
    "# Load resumes\n",
    "resumes_df = pd.read_csv(r'C:\\Users\\USER\\Desktop\\jupyter\\Projects\\AI_RESUMEMATCHER\\resumes.csv')\n",
    "print(\"RESUMES:\")\n",
    "print(resumes_df[['Name', 'Resume_Text']])\n"
   ]
  },
  {
   "cell_type": "code",
   "execution_count": 3,
   "id": "481aebf8",
   "metadata": {},
   "outputs": [
    {
     "name": "stdout",
     "output_type": "stream",
     "text": [
      "Defaulting to user installation because normal site-packages is not writeable\n",
      "Requirement already satisfied: spacy in c:\\users\\user\\appdata\\roaming\\python\\python313\\site-packages (3.8.7)\n",
      "Requirement already satisfied: spacy-legacy<3.1.0,>=3.0.11 in c:\\users\\user\\appdata\\roaming\\python\\python313\\site-packages (from spacy) (3.0.12)\n",
      "Requirement already satisfied: spacy-loggers<2.0.0,>=1.0.0 in c:\\users\\user\\appdata\\roaming\\python\\python313\\site-packages (from spacy) (1.0.5)\n",
      "Requirement already satisfied: murmurhash<1.1.0,>=0.28.0 in c:\\users\\user\\appdata\\roaming\\python\\python313\\site-packages (from spacy) (1.0.13)\n",
      "Requirement already satisfied: cymem<2.1.0,>=2.0.2 in c:\\users\\user\\appdata\\roaming\\python\\python313\\site-packages (from spacy) (2.0.11)\n",
      "Requirement already satisfied: preshed<3.1.0,>=3.0.2 in c:\\users\\user\\appdata\\roaming\\python\\python313\\site-packages (from spacy) (3.0.10)\n",
      "Requirement already satisfied: thinc<8.4.0,>=8.3.4 in c:\\users\\user\\appdata\\roaming\\python\\python313\\site-packages (from spacy) (8.3.6)\n",
      "Requirement already satisfied: wasabi<1.2.0,>=0.9.1 in c:\\users\\user\\appdata\\roaming\\python\\python313\\site-packages (from spacy) (1.1.3)\n",
      "Requirement already satisfied: srsly<3.0.0,>=2.4.3 in c:\\users\\user\\appdata\\roaming\\python\\python313\\site-packages (from spacy) (2.5.1)\n",
      "Requirement already satisfied: catalogue<2.1.0,>=2.0.6 in c:\\users\\user\\appdata\\roaming\\python\\python313\\site-packages (from spacy) (2.0.10)\n",
      "Requirement already satisfied: weasel<0.5.0,>=0.1.0 in c:\\users\\user\\appdata\\roaming\\python\\python313\\site-packages (from spacy) (0.4.1)\n",
      "Requirement already satisfied: typer<1.0.0,>=0.3.0 in c:\\users\\user\\appdata\\roaming\\python\\python313\\site-packages (from spacy) (0.16.0)\n",
      "Requirement already satisfied: tqdm<5.0.0,>=4.38.0 in c:\\users\\user\\appdata\\roaming\\python\\python313\\site-packages (from spacy) (4.67.1)\n",
      "Requirement already satisfied: numpy>=1.19.0 in c:\\users\\user\\appdata\\roaming\\python\\python313\\site-packages (from spacy) (2.2.4)\n",
      "Requirement already satisfied: requests<3.0.0,>=2.13.0 in c:\\users\\user\\appdata\\roaming\\python\\python313\\site-packages (from spacy) (2.32.3)\n",
      "Requirement already satisfied: pydantic!=1.8,!=1.8.1,<3.0.0,>=1.7.4 in c:\\users\\user\\appdata\\roaming\\python\\python313\\site-packages (from spacy) (2.11.7)\n",
      "Requirement already satisfied: jinja2 in c:\\users\\user\\appdata\\roaming\\python\\python313\\site-packages (from spacy) (3.1.6)\n",
      "Requirement already satisfied: setuptools in c:\\users\\user\\appdata\\roaming\\python\\python313\\site-packages (from spacy) (76.0.0)\n",
      "Requirement already satisfied: packaging>=20.0 in c:\\users\\user\\appdata\\roaming\\python\\python313\\site-packages (from spacy) (24.2)\n",
      "Requirement already satisfied: langcodes<4.0.0,>=3.2.0 in c:\\users\\user\\appdata\\roaming\\python\\python313\\site-packages (from spacy) (3.5.0)\n",
      "Requirement already satisfied: language-data>=1.2 in c:\\users\\user\\appdata\\roaming\\python\\python313\\site-packages (from langcodes<4.0.0,>=3.2.0->spacy) (1.3.0)\n",
      "Requirement already satisfied: annotated-types>=0.6.0 in c:\\users\\user\\appdata\\roaming\\python\\python313\\site-packages (from pydantic!=1.8,!=1.8.1,<3.0.0,>=1.7.4->spacy) (0.7.0)\n",
      "Requirement already satisfied: pydantic-core==2.33.2 in c:\\users\\user\\appdata\\roaming\\python\\python313\\site-packages (from pydantic!=1.8,!=1.8.1,<3.0.0,>=1.7.4->spacy) (2.33.2)\n",
      "Requirement already satisfied: typing-extensions>=4.12.2 in c:\\users\\user\\appdata\\roaming\\python\\python313\\site-packages (from pydantic!=1.8,!=1.8.1,<3.0.0,>=1.7.4->spacy) (4.12.2)\n",
      "Requirement already satisfied: typing-inspection>=0.4.0 in c:\\users\\user\\appdata\\roaming\\python\\python313\\site-packages (from pydantic!=1.8,!=1.8.1,<3.0.0,>=1.7.4->spacy) (0.4.1)\n",
      "Requirement already satisfied: charset-normalizer<4,>=2 in c:\\users\\user\\appdata\\roaming\\python\\python313\\site-packages (from requests<3.0.0,>=2.13.0->spacy) (3.4.1)\n",
      "Requirement already satisfied: idna<4,>=2.5 in c:\\users\\user\\appdata\\roaming\\python\\python313\\site-packages (from requests<3.0.0,>=2.13.0->spacy) (3.10)\n",
      "Requirement already satisfied: urllib3<3,>=1.21.1 in c:\\users\\user\\appdata\\roaming\\python\\python313\\site-packages (from requests<3.0.0,>=2.13.0->spacy) (2.3.0)\n",
      "Requirement already satisfied: certifi>=2017.4.17 in c:\\users\\user\\appdata\\roaming\\python\\python313\\site-packages (from requests<3.0.0,>=2.13.0->spacy) (2025.1.31)\n",
      "Requirement already satisfied: blis<1.4.0,>=1.3.0 in c:\\users\\user\\appdata\\roaming\\python\\python313\\site-packages (from thinc<8.4.0,>=8.3.4->spacy) (1.3.0)\n",
      "Requirement already satisfied: confection<1.0.0,>=0.0.1 in c:\\users\\user\\appdata\\roaming\\python\\python313\\site-packages (from thinc<8.4.0,>=8.3.4->spacy) (0.1.5)\n",
      "Requirement already satisfied: colorama in c:\\users\\user\\appdata\\roaming\\python\\python313\\site-packages (from tqdm<5.0.0,>=4.38.0->spacy) (0.4.6)\n",
      "Requirement already satisfied: click>=8.0.0 in c:\\users\\user\\appdata\\roaming\\python\\python313\\site-packages (from typer<1.0.0,>=0.3.0->spacy) (8.2.1)\n",
      "Requirement already satisfied: shellingham>=1.3.0 in c:\\users\\user\\appdata\\roaming\\python\\python313\\site-packages (from typer<1.0.0,>=0.3.0->spacy) (1.5.4)\n",
      "Requirement already satisfied: rich>=10.11.0 in c:\\users\\user\\appdata\\roaming\\python\\python313\\site-packages (from typer<1.0.0,>=0.3.0->spacy) (14.0.0)\n",
      "Requirement already satisfied: cloudpathlib<1.0.0,>=0.7.0 in c:\\users\\user\\appdata\\roaming\\python\\python313\\site-packages (from weasel<0.5.0,>=0.1.0->spacy) (0.21.1)\n",
      "Requirement already satisfied: smart-open<8.0.0,>=5.2.1 in c:\\users\\user\\appdata\\roaming\\python\\python313\\site-packages (from weasel<0.5.0,>=0.1.0->spacy) (7.3.0.post1)\n",
      "Requirement already satisfied: MarkupSafe>=2.0 in c:\\users\\user\\appdata\\roaming\\python\\python313\\site-packages (from jinja2->spacy) (3.0.2)\n",
      "Requirement already satisfied: marisa-trie>=1.1.0 in c:\\users\\user\\appdata\\roaming\\python\\python313\\site-packages (from language-data>=1.2->langcodes<4.0.0,>=3.2.0->spacy) (1.2.1)\n",
      "Requirement already satisfied: markdown-it-py>=2.2.0 in c:\\users\\user\\appdata\\roaming\\python\\python313\\site-packages (from rich>=10.11.0->typer<1.0.0,>=0.3.0->spacy) (3.0.0)\n",
      "Requirement already satisfied: pygments<3.0.0,>=2.13.0 in c:\\users\\user\\appdata\\roaming\\python\\python313\\site-packages (from rich>=10.11.0->typer<1.0.0,>=0.3.0->spacy) (2.19.1)\n",
      "Requirement already satisfied: wrapt in c:\\users\\user\\appdata\\roaming\\python\\python313\\site-packages (from smart-open<8.0.0,>=5.2.1->weasel<0.5.0,>=0.1.0->spacy) (1.17.2)\n",
      "Requirement already satisfied: mdurl~=0.1 in c:\\users\\user\\appdata\\roaming\\python\\python313\\site-packages (from markdown-it-py>=2.2.0->rich>=10.11.0->typer<1.0.0,>=0.3.0->spacy) (0.1.2)\n"
     ]
    },
    {
     "name": "stderr",
     "output_type": "stream",
     "text": [
      "\n",
      "[notice] A new release of pip is available: 24.3.1 -> 25.1.1\n",
      "[notice] To update, run: python.exe -m pip install --upgrade pip\n"
     ]
    },
    {
     "name": "stdout",
     "output_type": "stream",
     "text": [
      "Defaulting to user installation because normal site-packages is not writeable\n",
      "Collecting en-core-web-sm==3.8.0\n",
      "  Downloading https://github.com/explosion/spacy-models/releases/download/en_core_web_sm-3.8.0/en_core_web_sm-3.8.0-py3-none-any.whl (12.8 MB)\n",
      "     ---------------------------------------- 0.0/12.8 MB ? eta -:--:--\n",
      "     --- ------------------------------------ 1.0/12.8 MB 5.1 MB/s eta 0:00:03\n",
      "     ----- ---------------------------------- 1.8/12.8 MB 4.7 MB/s eta 0:00:03\n",
      "     -------- ------------------------------- 2.6/12.8 MB 4.3 MB/s eta 0:00:03\n",
      "     --------- ------------------------------ 3.1/12.8 MB 3.6 MB/s eta 0:00:03\n",
      "     ------------- -------------------------- 4.2/12.8 MB 4.1 MB/s eta 0:00:03\n",
      "     ---------------- ----------------------- 5.2/12.8 MB 4.0 MB/s eta 0:00:02\n",
      "     ------------------- -------------------- 6.3/12.8 MB 3.9 MB/s eta 0:00:02\n",
      "     ---------------------- ----------------- 7.1/12.8 MB 3.9 MB/s eta 0:00:02\n",
      "     ------------------------- -------------- 8.1/12.8 MB 3.8 MB/s eta 0:00:02\n",
      "     --------------------------- ------------ 8.9/12.8 MB 3.8 MB/s eta 0:00:02\n",
      "     ------------------------------ --------- 9.7/12.8 MB 3.8 MB/s eta 0:00:01\n",
      "     -------------------------------- ------- 10.5/12.8 MB 3.8 MB/s eta 0:00:01\n",
      "     ----------------------------------- ---- 11.3/12.8 MB 3.8 MB/s eta 0:00:01\n",
      "     ------------------------------------- -- 12.1/12.8 MB 3.8 MB/s eta 0:00:01\n",
      "     ---------------------------------------  12.6/12.8 MB 3.7 MB/s eta 0:00:01\n",
      "     ---------------------------------------- 12.8/12.8 MB 3.6 MB/s eta 0:00:00\n",
      "\u001b[38;5;2m✔ Download and installation successful\u001b[0m\n",
      "You can now load the package via spacy.load('en_core_web_sm')\n"
     ]
    },
    {
     "name": "stderr",
     "output_type": "stream",
     "text": [
      "\n",
      "[notice] A new release of pip is available: 24.3.1 -> 25.1.1\n",
      "[notice] To update, run: python.exe -m pip install --upgrade pip\n"
     ]
    }
   ],
   "source": [
    "!pip install spacy\n",
    "!python -m spacy download en_core_web_sm"
   ]
  },
  {
   "cell_type": "code",
   "execution_count": 4,
   "id": "c039ea91",
   "metadata": {},
   "outputs": [],
   "source": [
    "# Function to extract skills from job descriptions\n",
    "def extract_keywords(text):\n",
    "    if pd.isna(text):\n",
    "        return []\n",
    "    doc = nlp(str(text))\n",
    "    keywords = [token.text.lower() for token in doc if token.pos_ in ['NOUN', 'PROPN', 'ADJ', 'VERB']]\n",
    "    return list(set(keywords))  # Remove duplicates\n",
    "\n",
    "# Apply to jobs\n",
    "jobs_df['Extracted_Skills'] = jobs_df['Job_Description'].apply(extract_keywords)\n",
    "\n",
    "# Function to extract skills from resumes\n",
    "def extract_resume_keywords(text):\n",
    "    if pd.isna(text):\n",
    "        return []\n",
    "    doc = nlp(str(text))\n",
    "    keywords = [token.text.lower() for token in doc if token.pos_ in ['NOUN', 'PROPN', 'ADJ', 'VERB']]\n",
    "    return list(set(keywords))\n",
    "\n",
    "# Apply to resumes\n",
    "resumes_df['Extracted_Skills'] = resumes_df['Resume_Text'].apply(extract_resume_keywords)\n"
   ]
  },
  {
   "cell_type": "code",
   "execution_count": 5,
   "id": "1649b8a6",
   "metadata": {},
   "outputs": [],
   "source": [
    "# Function to compute match score\n",
    "def match_score(resume_skills, job_skills):\n",
    "    if not resume_skills or not job_skills:\n",
    "        return 0\n",
    "    common = set(resume_skills).intersection(set(job_skills))\n",
    "    return round((len(common) / len(set(job_skills))) * 100)\n"
   ]
  },
  {
   "cell_type": "code",
   "execution_count": 8,
   "id": "2adcb827",
   "metadata": {},
   "outputs": [
    {
     "ename": "NameError",
     "evalue": "name 'missing' is not defined",
     "output_type": "error",
     "traceback": [
      "\u001b[31m---------------------------------------------------------------------------\u001b[39m",
      "\u001b[31mNameError\u001b[39m                                 Traceback (most recent call last)",
      "\u001b[36mCell\u001b[39m\u001b[36m \u001b[39m\u001b[32mIn[8]\u001b[39m\u001b[32m, line 7\u001b[39m\n\u001b[32m      5\u001b[39m     best_match = job[\u001b[33m'\u001b[39m\u001b[33mJob_Title\u001b[39m\u001b[33m'\u001b[39m]\n\u001b[32m      6\u001b[39m     missing = missing_skills(resume[\u001b[33m'\u001b[39m\u001b[33mExtracted_Skills\u001b[39m\u001b[33m'\u001b[39m], job[\u001b[33m'\u001b[39m\u001b[33mExtracted_Skills\u001b[39m\u001b[33m'\u001b[39m])\n\u001b[32m----> \u001b[39m\u001b[32m7\u001b[39m \u001b[38;5;28mprint\u001b[39m(\u001b[33mf\u001b[39m\u001b[33m\"\u001b[39m\u001b[33m🧠 Skills to Learn for \u001b[39m\u001b[38;5;132;01m{\u001b[39;00mbest_match\u001b[38;5;132;01m}\u001b[39;00m\u001b[33m: \u001b[39m\u001b[38;5;132;01m{\u001b[39;00m\u001b[43mmissing\u001b[49m\u001b[38;5;132;01m}\u001b[39;00m\u001b[33m\"\u001b[39m)\n",
      "\u001b[31mNameError\u001b[39m: name 'missing' is not defined"
     ]
    }
   ],
   "source": [
    "def missing_skills(resume_skills, job_skills):\n",
    "    return list(set(job_skills) - set(resume_skills))\n",
    "if score > best_score:\n",
    "    best_score = score\n",
    "    best_match = job['Job_Title']\n",
    "    missing = missing_skills(resume['Extracted_Skills'], job['Extracted_Skills'])\n",
    "print(f\"🧠 Skills to Learn for {best_match}: {missing}\")"
   ]
  },
  {
   "cell_type": "code",
   "execution_count": 6,
   "id": "6072c723",
   "metadata": {},
   "outputs": [
    {
     "name": "stdout",
     "output_type": "stream",
     "text": [
      "\n",
      "🔍 Candidate: Ayesha\n",
      "  📌 Data Analyst → Match Score: 31%\n"
     ]
    },
    {
     "ename": "NameError",
     "evalue": "name 'missing_skills' is not defined",
     "output_type": "error",
     "traceback": [
      "\u001b[31m---------------------------------------------------------------------------\u001b[39m",
      "\u001b[31mNameError\u001b[39m                                 Traceback (most recent call last)",
      "\u001b[36mCell\u001b[39m\u001b[36m \u001b[39m\u001b[32mIn[6]\u001b[39m\u001b[32m, line 13\u001b[39m\n\u001b[32m     11\u001b[39m      best_score = score\n\u001b[32m     12\u001b[39m      best_match = job[\u001b[33m'\u001b[39m\u001b[33mJob_Title\u001b[39m\u001b[33m'\u001b[39m]\n\u001b[32m---> \u001b[39m\u001b[32m13\u001b[39m      missing = \u001b[43mmissing_skills\u001b[49m(resume[\u001b[33m'\u001b[39m\u001b[33mExtracted_Skills\u001b[39m\u001b[33m'\u001b[39m], job[\u001b[33m'\u001b[39m\u001b[33mExtracted_Skills\u001b[39m\u001b[33m'\u001b[39m])\n\u001b[32m     15\u001b[39m \u001b[38;5;28mprint\u001b[39m(\u001b[33mf\u001b[39m\u001b[33m\"\u001b[39m\u001b[33m✅ Best Match: \u001b[39m\u001b[38;5;132;01m{\u001b[39;00mbest_match\u001b[38;5;132;01m}\u001b[39;00m\u001b[33m (\u001b[39m\u001b[38;5;132;01m{\u001b[39;00mbest_score\u001b[38;5;132;01m}\u001b[39;00m\u001b[33m%)\u001b[39m\u001b[33m\"\u001b[39m)\n\u001b[32m     16\u001b[39m \u001b[38;5;28mprint\u001b[39m(\u001b[33mf\u001b[39m\u001b[33m\"\u001b[39m\u001b[33m🧠 Skills to Learn for \u001b[39m\u001b[38;5;132;01m{\u001b[39;00mbest_match\u001b[38;5;132;01m}\u001b[39;00m\u001b[33m: \u001b[39m\u001b[38;5;132;01m{\u001b[39;00mmissing\u001b[38;5;132;01m}\u001b[39;00m\u001b[33m\"\u001b[39m)\n",
      "\u001b[31mNameError\u001b[39m: name 'missing_skills' is not defined"
     ]
    }
   ],
   "source": [
    "for index, resume in resumes_df.iterrows():\n",
    "    print(f\"\\n🔍 Candidate: {resume['Name']}\")\n",
    "    best_match = None\n",
    "    best_score = 0\n",
    "\n",
    "    for _, job in jobs_df.iterrows():\n",
    "        score = match_score(resume['Extracted_Skills'], job['Extracted_Skills'])\n",
    "        print(f\"  📌 {job['Job_Title']} → Match Score: {score}%\")\n",
    "\n",
    "        if score > best_score:\n",
    "         best_score = score\n",
    "         best_match = job['Job_Title']\n",
    "         missing = missing_skills(resume['Extracted_Skills'], job['Extracted_Skills'])\n",
    "\n",
    "    print(f\"✅ Best Match: {best_match} ({best_score}%)\")\n",
    "    print(f\"🧠 Skills to Learn for {best_match}: {missing}\")\n",
    "    print(\"-\" * 50)\n"
   ]
  },
  {
   "cell_type": "code",
   "execution_count": null,
   "id": "11f39e9a",
   "metadata": {},
   "outputs": [],
   "source": []
  },
  {
   "cell_type": "code",
   "execution_count": 43,
   "id": "9d845c69",
   "metadata": {},
   "outputs": [
    {
     "name": "stdout",
     "output_type": "stream",
     "text": [
      "Defaulting to user installation because normal site-packages is not writeable\n",
      "Requirement already satisfied: matplotlib in c:\\users\\user\\appdata\\roaming\\python\\python313\\site-packages (3.10.1)\n",
      "Requirement already satisfied: seaborn in c:\\users\\user\\appdata\\roaming\\python\\python313\\site-packages (0.13.2)\n",
      "Requirement already satisfied: contourpy>=1.0.1 in c:\\users\\user\\appdata\\roaming\\python\\python313\\site-packages (from matplotlib) (1.3.1)\n",
      "Requirement already satisfied: cycler>=0.10 in c:\\users\\user\\appdata\\roaming\\python\\python313\\site-packages (from matplotlib) (0.12.1)\n",
      "Requirement already satisfied: fonttools>=4.22.0 in c:\\users\\user\\appdata\\roaming\\python\\python313\\site-packages (from matplotlib) (4.57.0)\n",
      "Requirement already satisfied: kiwisolver>=1.3.1 in c:\\users\\user\\appdata\\roaming\\python\\python313\\site-packages (from matplotlib) (1.4.8)\n",
      "Requirement already satisfied: numpy>=1.23 in c:\\users\\user\\appdata\\roaming\\python\\python313\\site-packages (from matplotlib) (2.2.4)\n",
      "Requirement already satisfied: packaging>=20.0 in c:\\users\\user\\appdata\\roaming\\python\\python313\\site-packages (from matplotlib) (24.2)\n",
      "Requirement already satisfied: pillow>=8 in c:\\users\\user\\appdata\\roaming\\python\\python313\\site-packages (from matplotlib) (11.2.1)\n",
      "Requirement already satisfied: pyparsing>=2.3.1 in c:\\users\\user\\appdata\\roaming\\python\\python313\\site-packages (from matplotlib) (3.2.3)\n",
      "Requirement already satisfied: python-dateutil>=2.7 in c:\\users\\user\\appdata\\roaming\\python\\python313\\site-packages (from matplotlib) (2.9.0.post0)\n",
      "Requirement already satisfied: pandas>=1.2 in c:\\users\\user\\appdata\\roaming\\python\\python313\\site-packages (from seaborn) (2.2.3)\n",
      "Requirement already satisfied: pytz>=2020.1 in c:\\users\\user\\appdata\\roaming\\python\\python313\\site-packages (from pandas>=1.2->seaborn) (2025.2)\n",
      "Requirement already satisfied: tzdata>=2022.7 in c:\\users\\user\\appdata\\roaming\\python\\python313\\site-packages (from pandas>=1.2->seaborn) (2025.2)\n",
      "Requirement already satisfied: six>=1.5 in c:\\users\\user\\appdata\\roaming\\python\\python313\\site-packages (from python-dateutil>=2.7->matplotlib) (1.17.0)\n"
     ]
    },
    {
     "name": "stderr",
     "output_type": "stream",
     "text": [
      "\n",
      "[notice] A new release of pip is available: 24.3.1 -> 25.1.1\n",
      "[notice] To update, run: python.exe -m pip install --upgrade pip\n"
     ]
    }
   ],
   "source": [
    "!pip install matplotlib seaborn"
   ]
  },
  {
   "cell_type": "code",
   "execution_count": 44,
   "id": "c7f18c84",
   "metadata": {},
   "outputs": [
    {
     "data": {
      "text/html": [
       "<div>\n",
       "<style scoped>\n",
       "    .dataframe tbody tr th:only-of-type {\n",
       "        vertical-align: middle;\n",
       "    }\n",
       "\n",
       "    .dataframe tbody tr th {\n",
       "        vertical-align: top;\n",
       "    }\n",
       "\n",
       "    .dataframe thead th {\n",
       "        text-align: right;\n",
       "    }\n",
       "</style>\n",
       "<table border=\"1\" class=\"dataframe\">\n",
       "  <thead>\n",
       "    <tr style=\"text-align: right;\">\n",
       "      <th></th>\n",
       "      <th>Candidate</th>\n",
       "      <th>Job</th>\n",
       "      <th>Match_Score</th>\n",
       "    </tr>\n",
       "  </thead>\n",
       "  <tbody>\n",
       "    <tr>\n",
       "      <th>0</th>\n",
       "      <td>Ayesha</td>\n",
       "      <td>Data Analyst</td>\n",
       "      <td>31</td>\n",
       "    </tr>\n",
       "    <tr>\n",
       "      <th>1</th>\n",
       "      <td>Ayesha</td>\n",
       "      <td>Machine Learning Engineer</td>\n",
       "      <td>18</td>\n",
       "    </tr>\n",
       "    <tr>\n",
       "      <th>2</th>\n",
       "      <td>Ayesha</td>\n",
       "      <td>Data Scientist</td>\n",
       "      <td>17</td>\n",
       "    </tr>\n",
       "    <tr>\n",
       "      <th>3</th>\n",
       "      <td>Ravi</td>\n",
       "      <td>Data Analyst</td>\n",
       "      <td>15</td>\n",
       "    </tr>\n",
       "    <tr>\n",
       "      <th>4</th>\n",
       "      <td>Ravi</td>\n",
       "      <td>Machine Learning Engineer</td>\n",
       "      <td>18</td>\n",
       "    </tr>\n",
       "    <tr>\n",
       "      <th>5</th>\n",
       "      <td>Ravi</td>\n",
       "      <td>Data Scientist</td>\n",
       "      <td>26</td>\n",
       "    </tr>\n",
       "    <tr>\n",
       "      <th>6</th>\n",
       "      <td>Neha</td>\n",
       "      <td>Data Analyst</td>\n",
       "      <td>23</td>\n",
       "    </tr>\n",
       "    <tr>\n",
       "      <th>7</th>\n",
       "      <td>Neha</td>\n",
       "      <td>Machine Learning Engineer</td>\n",
       "      <td>18</td>\n",
       "    </tr>\n",
       "    <tr>\n",
       "      <th>8</th>\n",
       "      <td>Neha</td>\n",
       "      <td>Data Scientist</td>\n",
       "      <td>13</td>\n",
       "    </tr>\n",
       "  </tbody>\n",
       "</table>\n",
       "</div>"
      ],
      "text/plain": [
       "  Candidate                        Job  Match_Score\n",
       "0    Ayesha               Data Analyst           31\n",
       "1    Ayesha  Machine Learning Engineer           18\n",
       "2    Ayesha             Data Scientist           17\n",
       "3      Ravi               Data Analyst           15\n",
       "4      Ravi  Machine Learning Engineer           18\n",
       "5      Ravi             Data Scientist           26\n",
       "6      Neha               Data Analyst           23\n",
       "7      Neha  Machine Learning Engineer           18\n",
       "8      Neha             Data Scientist           13"
      ]
     },
     "execution_count": 44,
     "metadata": {},
     "output_type": "execute_result"
    }
   ],
   "source": [
    "import matplotlib.pyplot as plt\n",
    "import seaborn as sns\n",
    "\n",
    "# Create empty results list\n",
    "results = []\n",
    "\n",
    "for _, resume in resumes_df.iterrows():\n",
    "    for _, job in jobs_df.iterrows():\n",
    "        score = match_score(resume['Extracted_Skills'], job['Extracted_Skills'])\n",
    "        results.append({\n",
    "            'Candidate': resume['Name'],\n",
    "            'Job': job['Job_Title'],\n",
    "            'Match_Score': score\n",
    "        })\n",
    "\n",
    "# Convert to DataFrame\n",
    "match_df = pd.DataFrame(results)\n",
    "match_df\n"
   ]
  },
  {
   "cell_type": "code",
   "execution_count": 50,
   "id": "237ec96a",
   "metadata": {},
   "outputs": [],
   "source": [
    "# Rebuild match_df after updating skills\n",
    "results = []\n",
    "\n",
    "for _, resume in resumes_df.iterrows():\n",
    "    for _, job in jobs_df.iterrows():\n",
    "        score = match_score(resume['Extracted_Skills'], job['Extracted_Skills'])\n",
    "        results.append({\n",
    "            'Candidate': resume['Name'],\n",
    "            'Job': job['Job_Title'],\n",
    "            'Match_Score': score\n",
    "        })\n",
    "\n",
    "match_df = pd.DataFrame(results)\n",
    "\n"
   ]
  },
  {
   "cell_type": "code",
   "execution_count": 51,
   "id": "f2102bf7",
   "metadata": {},
   "outputs": [
    {
     "data": {
      "image/png": "[encoded data removed]",
      "text/plain": [
       "<Figure size 1000x600 with 2 Axes>"
      ]
     },
     "metadata": {},
     "output_type": "display_data"
    }
   ],
   "source": [
    "pivot_table = match_df.pivot(index='Candidate', columns='Job', values='Match_Score')\n",
    "\n",
    "plt.figure(figsize=(10, 6))\n",
    "sns.heatmap(pivot_table, annot=True, cmap='Blues', fmt='g')\n",
    "plt.title(\"Resume vs Job Match Score Heatmap\")\n",
    "plt.ylabel(\"Candidate\")\n",
    "plt.xlabel(\"Job Role\")\n",
    "plt.show()"
   ]
  },
  {
   "cell_type": "code",
   "execution_count": 52,
   "id": "1e50bad9",
   "metadata": {},
   "outputs": [
    {
     "data": {
      "image/png": "[encoded data removed]",
      "text/plain": [
       "<Figure size 800x500 with 1 Axes>"
      ]
     },
     "metadata": {},
     "output_type": "display_data"
    }
   ],
   "source": [
    "best_matches = match_df.loc[match_df.groupby('Candidate')['Match_Score'].idxmax()]\n",
    "\n",
    "plt.figure(figsize=(8, 5))\n",
    "sns.barplot(data=best_matches, x='Candidate', y='Match_Score', hue='Job')\n",
    "plt.title(\"Best Job Match for Each Candidate\")\n",
    "plt.ylabel(\"Match Score (%)\")\n",
    "plt.show()\n"
   ]
  },
  {
   "cell_type": "code",
   "execution_count": 55,
   "id": "9d805007",
   "metadata": {},
   "outputs": [
    {
     "data": {
      "text/html": [
       "<div>\n",
       "<style scoped>\n",
       "    .dataframe tbody tr th:only-of-type {\n",
       "        vertical-align: middle;\n",
       "    }\n",
       "\n",
       "    .dataframe tbody tr th {\n",
       "        vertical-align: top;\n",
       "    }\n",
       "\n",
       "    .dataframe thead th {\n",
       "        text-align: right;\n",
       "    }\n",
       "</style>\n",
       "<table border=\"1\" class=\"dataframe\">\n",
       "  <thead>\n",
       "    <tr style=\"text-align: right;\">\n",
       "      <th></th>\n",
       "      <th>Candidate</th>\n",
       "      <th>Job</th>\n",
       "      <th>Match_Score</th>\n",
       "    </tr>\n",
       "  </thead>\n",
       "  <tbody>\n",
       "    <tr>\n",
       "      <th>0</th>\n",
       "      <td>Ayesha</td>\n",
       "      <td>Data Analyst</td>\n",
       "      <td>31</td>\n",
       "    </tr>\n",
       "    <tr>\n",
       "      <th>1</th>\n",
       "      <td>Neha</td>\n",
       "      <td>Data Analyst</td>\n",
       "      <td>23</td>\n",
       "    </tr>\n",
       "    <tr>\n",
       "      <th>2</th>\n",
       "      <td>Ravi</td>\n",
       "      <td>Data Scientist</td>\n",
       "      <td>26</td>\n",
       "    </tr>\n",
       "  </tbody>\n",
       "</table>\n",
       "</div>"
      ],
      "text/plain": [
       "  Candidate             Job  Match_Score\n",
       "0    Ayesha    Data Analyst           31\n",
       "1      Neha    Data Analyst           23\n",
       "2      Ravi  Data Scientist           26"
      ]
     },
     "execution_count": 55,
     "metadata": {},
     "output_type": "execute_result"
    }
   ],
   "source": [
    "# Find the best match per candidate\n",
    "best_matches = match_df.loc[match_df.groupby('Candidate')['Match_Score'].idxmax()]\n",
    "best_matches.reset_index(drop=True, inplace=True)\n",
    "best_matches\n"
   ]
  },
  {
   "cell_type": "code",
   "execution_count": 56,
   "id": "8f4f07bb",
   "metadata": {},
   "outputs": [
    {
     "name": "stderr",
     "output_type": "stream",
     "text": [
      "C:\\Users\\USER\\AppData\\Local\\Temp\\ipykernel_17804\\3317392289.py:11: UserWarning: Glyph 127919 (\\N{DIRECT HIT}) missing from font(s) DejaVu Sans.\n",
      "  plt.tight_layout()\n",
      "C:\\Users\\USER\\AppData\\Roaming\\Python\\Python313\\site-packages\\IPython\\core\\pylabtools.py:170: UserWarning: Glyph 127919 (\\N{DIRECT HIT}) missing from font(s) DejaVu Sans.\n",
      "  fig.canvas.print_figure(bytes_io, **kw)\n"
     ]
    },
    {
     "data": {
      "image/png": "[encoded data removed]",
      "text/plain": [
       "<Figure size 800x500 with 1 Axes>"
      ]
     },
     "metadata": {},
     "output_type": "display_data"
    }
   ],
   "source": [
    "import seaborn as sns\n",
    "import matplotlib.pyplot as plt\n",
    "\n",
    "plt.figure(figsize=(8, 5))\n",
    "sns.barplot(data=best_matches, x='Candidate', y='Match_Score', hue='Job')\n",
    "plt.title(\"🎯 Best Job Match for Each Candidate\")\n",
    "plt.ylabel(\"Match Score (%)\")\n",
    "plt.xlabel(\"Candidate Name\")\n",
    "plt.ylim(0, 100)\n",
    "plt.legend(title=\"Job Role\", loc='lower right')\n",
    "plt.tight_layout()\n",
    "plt.show()\n"
   ]
  },
  {
   "cell_type": "code",
   "execution_count": null,
   "id": "a73773ee",
   "metadata": {},
   "outputs": [],
   "source": []
  }
 ],
 "metadata": {
  "kernelspec": {
   "display_name": "Python 3",
   "language": "python",
   "name": "python3"
  },
  "language_info": {
   "codemirror_mode": {
    "name": "ipython",
    "version": 3
   },
   "file_extension": ".py",
   "mimetype": "text/x-python",
   "name": "python",
   "nbconvert_exporter": "python",
   "pygments_lexer": "ipython3",
   "version": "3.13.2"
  }
 },
 "nbformat": 4,
 "nbformat_minor": 5
}
